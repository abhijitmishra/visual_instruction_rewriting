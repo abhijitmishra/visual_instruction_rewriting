{
 "cells": [
  {
   "cell_type": "code",
   "execution_count": null,
   "id": "4a4fca6b",
   "metadata": {},
   "outputs": [],
   "source": [
    "import pandas as pd\n",
    "pd.set_option('display.max_rows', None)\n",
    "pd.set_option('display.max_columns', None)\n",
    "\n",
    "# Read the dataset from the text file\n",
    "file_path = r\"C:\\Users\\anon\\Document\\2024_spring\\Captstone\\NanoMMIR\\data creation and dataset analysis\\all_test_predicted_after_parse.csv\"\n",
    "df_pred = pd.read_csv(file_path, encoding=\"utf-8\")\n",
    "\n",
    "# Renaming columns for consistency\n",
    "df_pred.rename(columns={'Rewritten Question': 'Rewritten_Questions'}, inplace=True)\n",
    "\n",
    "df_pred\n"
   ]
  },
  {
   "cell_type": "code",
   "execution_count": null,
   "id": "b3c47038",
   "metadata": {},
   "outputs": [],
   "source": [
    "import pandas as pd\n",
    "import requests\n",
    "\n",
    "def generate_response(paragraph, query):\n",
    "    # Set up the request parameters\n",
    "    messages = [\n",
    "        {\"role\": \"system\", \"content\": \"You are a helpful assistant.\"},\n",
    "        {\"role\": \"user\", \"content\": f\"{query}{paragraph}\"}\n",
    "    ]\n",
    "\n",
    "    data = {\n",
    "        \"messages\": messages,\n",
    "        \"max_tokens\": 200,\n",
    "        \"n\": 1,\n",
    "        \"stop\": None,\n",
    "        \"temperature\": 0.7,\n",
    "        \"model\": \"gpt-3.5-turbo-0125\"  # Remove the version number from the model name\n",
    "    }\n",
    "\n",
    "    # Set up the OpenAI API endpoint and headers\n",
    "    endpoint = \"https://api.openai.com/v1/chat/completions\"\n",
    "    headers = {\n",
    "        \"Content-Type\": \"application/json\",\n",
    "        \"Authorization\": \"Bearer sk-proj-\"\n",
    "    }\n",
    "\n",
    "    # Make the request to the API\n",
    "    response = requests.post(endpoint, json=data, headers=headers)\n",
    "\n",
    "    # Check if the request was successful\n",
    "    if response.status_code == 200:\n",
    "        # Extract the generated text\n",
    "        generated_text = response.json()[\"choices\"][0][\"message\"][\"content\"].strip()\n",
    "        return generated_text\n",
    "    else:\n",
    "        # Handle any errors\n",
    "        print(f\"Error: {response.text}\")\n",
    "        return None\n",
    "\n",
    "# Perform semantic parsing for each prompt and add the response to a new column\n",
    "query = \"Extract the intent and arguments by performing semantic parsing of the following sentence. Give the output in JSON format. JSON. Input: \"\n",
    "df_pred[\"Predicted_Parse\"] = df_pred.apply(lambda row: generate_response(row[\"Predicted\"], query) if pd.isnull(row[\"Predicted_Parse\"]) else row[\"Predicted_Parse\"], axis=1)\n",
    "\n",
    "# df_pred[\"Predicted_Parse\"] = df_pred[\"Predicted\"].apply(lambda x: generate_response(x, query))\n",
    "df_pred"
   ]
  },
  {
   "cell_type": "code",
   "execution_count": null,
   "id": "95719c7d",
   "metadata": {},
   "outputs": [],
   "source": [
    "pd.set_option('display.max_rows', None)\n",
    "pd.set_option('display.max_columns', None)\n",
    "df_pred\n",
    "\n",
    "import pandas as pd\n",
    "\n",
    "# Assuming df is your DataFrame\n",
    "# Save DataFrame to a CSV file\n",
    "df_pred.to_csv(r'C:\\Users\\anon\\Document\\2024_spring\\Captstone\\NanoMMIR\\data creation and dataset analysis\\all_test_predicted_after_parse_final.csv', index=False)\n"
   ]
  }
 ],
 "metadata": {
  "kernelspec": {
   "display_name": "VLM",
   "language": "python",
   "name": "vlm"
  },
  "language_info": {
   "codemirror_mode": {
    "name": "ipython",
    "version": 3
   },
   "file_extension": ".py",
   "mimetype": "text/x-python",
   "name": "python",
   "nbconvert_exporter": "python",
   "pygments_lexer": "ipython3",
   "version": "3.12.2"
  }
 },
 "nbformat": 4,
 "nbformat_minor": 5
}
