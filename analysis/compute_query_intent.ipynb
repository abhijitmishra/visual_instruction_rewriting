{
 "cells": [
  {
   "cell_type": "code",
   "execution_count": null,
   "metadata": {},
   "outputs": [
    {
     "name": "stdout",
     "output_type": "stream",
     "text": [
      "OpenAI API Key loaded successfully!\n"
     ]
    }
   ],
   "source": [
    "import os\n",
    "import openai\n",
    "from dotenv import load_dotenv\n",
    "from openai import OpenAI\n",
    "import pandas as pd\n",
    "from tqdm import tqdm  # For progress bar\n",
    "\n",
    "# Load environment variables from the .env file\n",
    "load_dotenv()\n",
    "\n",
    "# Access the OpenAI API key\n",
    "openai_api_key = \"\"\n",
    "\n",
    "# Use the API key\n",
    "if openai_api_key:\n",
    "    print(\"OpenAI API Key loaded successfully!\")\n",
    "else:\n",
    "    print(\"OpenAI API Key not found. Please check your .env file.\")\n",
    "\n",
    "# Define intent labels\n",
    "intent_labels = [\n",
    "    \"SetReminder\", \"SetAlarm\", \"CreateCalendarEvent\", \"SendMessage\", \"SendEmail\",\n",
    "    \"MakeCall\", \"OpenApp\", \"SearchWeb\", \"SetTimer\", \"CheckWeather\",\n",
    "    \"TurnOnDevice\", \"TurnOffDevice\", \"AdjustBrightness\", \"AdjustTemperature\",\n",
    "    \"LockDoor\", \"UnlockDoor\", \"StartVacuum\", \"StopVacuum\", \"CheckSecurityCamera\",\n",
    "    \"SetScene\", \"PlayMusic\", \"PauseMusic\", \"SkipTrack\", \"PlayPodcast\", \"PlayVideo\",\n",
    "    \"AdjustVolume\", \"SetPlaybackSpeed\", \"SearchMovie\", \"ShowTVGuide\",\n",
    "    \"GetDirections\", \"CheckTraffic\", \"FindNearbyPlace\", \"EstimateArrivalTime\",\n",
    "    \"StartNavigation\", \"StopNavigation\", \"SendTextMessage\", \"MakePhoneCall\",\n",
    "    \"StartVideoCall\", \"CheckVoicemail\", \"ReadMessage\", \"ReplyToMessage\",\n",
    "    \"SendGroupMessage\", \"AnswerGeneralQuestion\", \"DefineWord\", \"ConvertUnits\",\n",
    "    \"GetSportsScores\", \"CheckStockPrice\", \"GetFact\", \"TranslateText\",\n",
    "    \"MathCalculation\", \"FindPersonInfo\", \"GetNewsUpdate\"\n",
    "]\n",
    "\n",
    "# Initialize OpenAI client\n",
    "client = openai.OpenAI(api_key=openai_api_key)\n",
    "\n",
    "def predict_intent(query):\n",
    "    \"\"\"\n",
    "    Predicts the intent of a given query using OpenAI's GPT-4.\n",
    "\n",
    "    Parameters:\n",
    "        query (str): The user query.\n",
    "\n",
    "    Returns:\n",
    "        str: Predicted intent label.\n",
    "    \"\"\"\n",
    "    prompt = f\"\"\"\n",
    "    You are an AI assistant trained to classify user queries into predefined intent categories.\n",
    "    Given the following user query, determine the most appropriate intent from the list below.\n",
    "\n",
    "    Intent Labels:\n",
    "    {', '.join(intent_labels)}\n",
    "\n",
    "    User Query: \"{query}\"\n",
    "\n",
    "    Provide only the intent label as output.\n",
    "    \"\"\"\n",
    "\n",
    "    # Use the new OpenAI client syntax\n",
    "    chat_completion = client.chat.completions.create(\n",
    "        messages=[\n",
    "            {\"role\": \"system\", \"content\": \"You classify user queries into intents.\"},\n",
    "            {\"role\": \"user\", \"content\": prompt}\n",
    "        ],\n",
    "        model=\"gpt-4o-mini\",\n",
    "    )\n",
    "\n",
    "    # Retrieve the response content properly\n",
    "    response_content = chat_completion.choices[0].message.content.strip()\n",
    "    return response_content\n",
    "\n",
    "\n",
    "\n",
    "def process_file(file_path, output_path):\n",
    "    \"\"\"\n",
    "    Processes a TSV file to compute intent for the 'Rewritten Question' column.\n",
    "\n",
    "    Parameters:\n",
    "        file_path (str): Path to the input TSV file.\n",
    "        output_path (str): Path to save the output TSV file.\n",
    "    \"\"\"\n",
    "    # Read the TSV file\n",
    "    df = pd.read_csv(file_path, sep=\"\\t\")\n",
    "\n",
    "    # Add a progress bar\n",
    "    print(f\"Processing file: {file_path}\")\n",
    "    intents = []\n",
    "    for i, query in enumerate(tqdm(df[\"Rewritten Question\"], desc=\"Process\")):\n",
    "        try:\n",
    "            intent = predict_intent(query)\n",
    "            intents.append(intent)\n",
    "            # Print the current query and its predicted intent\n",
    "            # Add intents to DataFrame\n",
    "            # File path\n",
    "            file_path = \"a.txt\"\n",
    "\n",
    "            # Save the list to a file\n",
    "            with open(file_path, \"w\") as file:\n",
    "                for item in intent:\n",
    "                    file.write(f\"{i}\\n\")\n",
    "\n",
    "        except Exception as e:\n",
    "            print(f\"Error processing query: {query}, Error: {e}\")\n",
    "            intents.append(\"Error\")  # Log error if prediction fails\n",
    "\n",
    "    # Add intents to DataFrame\n",
    "    df[\"intent\"] = intents\n",
    "\n",
    "    # Save the updated DataFrame to a new TSV file\n",
    "    df.to_csv(output_path, sep=\"\\t\", index=False)\n",
    "    print(f\"Processing completed and saved to: {output_path}\")\n"
   ]
  },
  {
   "cell_type": "code",
   "execution_count": 6,
   "metadata": {},
   "outputs": [
    {
     "name": "stdout",
     "output_type": "stream",
     "text": [
      "Processing file: train.tsv\n"
     ]
    },
    {
     "name": "stderr",
     "output_type": "stream",
     "text": [
      "Process: 100%|██████████| 31218/31218 [5:34:28<00:00,  1.56it/s]      \n"
     ]
    },
    {
     "name": "stdout",
     "output_type": "stream",
     "text": [
      "Processing completed and saved to: train_with_intents.tsv\n",
      "Intent classification completed for both train and test files.\n"
     ]
    }
   ],
   "source": [
    "# File paths\n",
    "train_file = \"train.tsv\"         # Path to the train file         # Path to the test file\n",
    "\n",
    "# Output file paths\n",
    "train_output_file = \"train_with_intents.tsv\"\n",
    "\n",
    "process_file(train_file, train_output_file)\n",
    "\n",
    "print(\"Intent classification completed for both train and test files.\")"
   ]
  }
 ],
 "metadata": {
  "kernelspec": {
   "display_name": "ml",
   "language": "python",
   "name": "python3"
  },
  "language_info": {
   "codemirror_mode": {
    "name": "ipython",
    "version": 3
   },
   "file_extension": ".py",
   "mimetype": "text/x-python",
   "name": "python",
   "nbconvert_exporter": "python",
   "pygments_lexer": "ipython3",
   "version": "3.10.9"
  }
 },
 "nbformat": 4,
 "nbformat_minor": 2
}
