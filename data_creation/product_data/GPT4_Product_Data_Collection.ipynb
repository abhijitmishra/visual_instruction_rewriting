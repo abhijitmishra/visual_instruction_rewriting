{
 "cells": [
  {
   "cell_type": "markdown",
   "id": "18f3ab24-dc63-474d-b0f6-d8c7eb429776",
   "metadata": {
    "id": "18f3ab24-dc63-474d-b0f6-d8c7eb429776"
   },
   "source": [
    "## Question generation and rewriting for product domain"
   ]
  },
  {
   "cell_type": "code",
   "execution_count": null,
   "id": "upRL56NP50Qr",
   "metadata": {
    "colab": {
     "base_uri": "https://localhost:8080/"
    },
    "id": "upRL56NP50Qr",
    "outputId": "4d5181a9-536a-4ff1-94a4-9c97d85ffdfd"
   },
   "outputs": [],
   "source": [
    "!pip install openai\n",
    "!pip install instructor\n",
    "!pip install pydantic"
   ]
  },
  {
   "cell_type": "code",
   "execution_count": null,
   "id": "adeef546-e3d3-422c-bd8a-b271eb4cbc14",
   "metadata": {
    "colab": {
     "base_uri": "https://localhost:8080/"
    },
    "id": "adeef546-e3d3-422c-bd8a-b271eb4cbc14",
    "outputId": "6e598e53-79ba-4bde-dfcf-c36e3207d626"
   },
   "outputs": [],
   "source": [
    "import base64\n",
    "import os\n",
    "import json\n",
    "from openai import OpenAI\n",
    "from instructor import from_openai\n",
    "from pydantic import BaseModel\n",
    "from typing import List\n",
    "\n",
    "# OpenAI API Key\n",
    "api_key = \"\"\n",
    "client = from_openai(OpenAI(api_key=api_key))\n",
    "model = \"gpt-4o\"\n",
    "\n",
    "\n",
    "class SinglePair(BaseModel):\n",
    "    direct: str\n",
    "    indirect: str\n",
    "\n",
    "\n",
    "class Response(BaseModel):\n",
    "    response: List[SinglePair]\n",
    "\n",
    "\n",
    "# Function to encode the image\n",
    "def encode_image(image_path):\n",
    "    with open(image_path, \"rb\") as image_file:\n",
    "        return base64.b64encode(image_file.read()).decode(\"utf-8\")\n",
    "\n",
    "\n",
    "def get_message_for_images(base64_image):\n",
    "    messages = [\n",
    "        {\n",
    "            \"role\": \"system\",\n",
    "            \"content\": \"\"\"\n",
    "                I have an image of a product that contains specific details, such as labels, branding, or visible features. This product could be anything that has a label and can be bought from platforms like Amazon, such as electronics, household items, beauty products, etc.\n",
    "                Your task is to generate a set of at least 20 unique indirect question/command pairs related to the product.\n",
    "                Each pair should consist of a direct question/command referring to the product in general terms and an indirect counterpart that mentions the product explicitly by name or specific feature.\n",
    "                Ensure the questions or commands cover various domains, such as searching, checking prices, availability, purchase options, reviews, sharing, product details, and product comparison.\n",
    "                The output should be strictly formatted in JSON with a list of 20 dictionaries with 'direct' and 'indirect' as keys and the respective questions or commands as values.\n",
    "                \"\"\",\n",
    "        },\n",
    "        {\n",
    "            \"role\": \"user\",\n",
    "            \"content\": [\n",
    "                {\"type\": \"text\", \"text\": \"\"},\n",
    "                {\n",
    "                    \"type\": \"image_url\",\n",
    "                    \"image_url\": {\"url\": f\"data:image/png;base64,{base64_image}\"},\n",
    "                },\n",
    "            ],\n",
    "        },\n",
    "    ]\n",
    "    return messages\n",
    "\n",
    "\n",
    "def get_direct_indirect_questions(image_path):\n",
    "    # Getting the base64 string\n",
    "    base64_image = encode_image(image_path)\n",
    "\n",
    "    messages = get_message_for_images(base64_image=base64_image)\n",
    "    response = client.chat.completions.create(\n",
    "        model=model, response_model=Response, messages=messages\n",
    "    )\n",
    "\n",
    "    return response.model_dump(mode=\"json\")\n",
    "\n",
    "\n",
    "# Main logic to process images in a folder and save results to a JSON file\n",
    "folder_path = \"D:/product_images\"  # Specify the folder containing the images\n",
    "output_file = \"results.json\"  # Specify the output file name\n",
    "\n",
    "results = []\n",
    "\n",
    "# Iterate through all the images in the folder\n",
    "for image_file in os.listdir(folder_path):\n",
    "    if not image_file.endswith((\".png\", \".jpg\", \".jpeg\")):\n",
    "        continue  # Skip non-image files\n",
    "\n",
    "    image_path = os.path.join(folder_path, image_file)\n",
    "    image_id = os.path.splitext(image_file)[0]\n",
    "\n",
    "    try:\n",
    "        # Get direct/indirect question pairs\n",
    "        direct_indirect_questions = get_direct_indirect_questions(image_path)\n",
    "\n",
    "        # Loop through each pair in the response\n",
    "        for entry in direct_indirect_questions[\"response\"]:\n",
    "            prompt = f\"Rewrite this: {entry['indirect']}\"\n",
    "            response = entry[\"direct\"]\n",
    "\n",
    "            results.append(\n",
    "                {\"ImageId\": image_id, \"Prompt\": prompt, \"RewrittenQuestion\": response}\n",
    "            )\n",
    "    except Exception as e:\n",
    "        print(f\"Query failed for image {image_id}. Error: {str(e)}. Retrying...\")\n",
    "        continue\n",
    "\n",
    "\n",
    "# Save results to JSON\n",
    "with open(output_file, \"w\") as outfile:\n",
    "    json.dump(results, outfile, indent=4)"
   ]
  },
  {
   "cell_type": "code",
   "execution_count": null,
   "id": "0c03f58e",
   "metadata": {},
   "outputs": [],
   "source": []
  }
 ],
 "metadata": {
  "colab": {
   "provenance": []
  },
  "kernelspec": {
   "display_name": "Python 3 (ipykernel)",
   "language": "python",
   "name": "python3"
  },
  "language_info": {
   "codemirror_mode": {
    "name": "ipython",
    "version": 3
   },
   "file_extension": ".py",
   "mimetype": "text/x-python",
   "name": "python",
   "nbconvert_exporter": "python",
   "pygments_lexer": "ipython3",
   "version": "3.9.13"
  }
 },
 "nbformat": 4,
 "nbformat_minor": 5
}
