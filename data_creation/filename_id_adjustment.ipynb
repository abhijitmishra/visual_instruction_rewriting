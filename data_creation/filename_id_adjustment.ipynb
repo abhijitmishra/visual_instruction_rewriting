{
 "cells": [
  {
   "cell_type": "code",
   "execution_count": null,
   "id": "b9c71e90",
   "metadata": {
    "scrolled": false
   },
   "outputs": [],
   "source": [
    "import os\n",
    "import re\n",
    "import pandas as pd\n",
    "\n",
    "def rename_images_and_update_tsv(image_folder, train_tsv, test_tsv, valid_tsv, test_predicted_tsv):\n",
    "    # Read the TSV file\n",
    "    train_df = pd.read_csv(train_tsv, sep='\\t')\n",
    "    test_df = pd.read_csv(train_tsv, sep='\\t')\n",
    "    valid_df = pd.read_csv(valid_tsv, sep='\\t')\n",
    "    test_predicted_df = pd.read_csv(test_predicted_tsv, sep='\\t')\n",
    "\n",
    "    # List all image files in the folder\n",
    "    image_files = [f for f in os.listdir(image_folder) if os.path.isfile(os.path.join(image_folder, f))]\n",
    "\n",
    "    # Initialize a counter for renaming\n",
    "    counter = 1\n",
    "\n",
    "    # Dictionary to map old file names to new file names\n",
    "    rename_mapping = {}\n",
    "\n",
    "    # Regular expression to match filenames that are numeric or numeric followed by one letter\n",
    "    # or filenames that start with 'B' followed by 9 alphanumeric characters\n",
    "    pattern = re.compile(r'^\\d+[a-zA-Z]?$|^B\\w{9}$')\n",
    "\n",
    "    for image_file in image_files:\n",
    "        # Extract the filename without extension\n",
    "        file_name, file_extension = os.path.splitext(image_file)\n",
    "\n",
    "        # Check if the filename matches the pattern\n",
    "        if pattern.match(file_name):\n",
    "            # Generate new file name\n",
    "            new_file = f\"book_{counter}\"\n",
    "            new_file_name = new_file+file_extension\n",
    "            \n",
    "            # Rename the image file\n",
    "            old_file_path = os.path.join(image_folder, image_file)\n",
    "            new_file_path = os.path.join(image_folder, new_file_name)\n",
    "            os.rename(old_file_path, new_file_path)\n",
    "\n",
    "            # Update the mapping\n",
    "            rename_mapping[file_name] = new_file\n",
    "\n",
    "            # Increment the counter\n",
    "            counter += 1\n",
    "\n",
    "    # Update the TSV file with new names\n",
    "    train_df.replace(rename_mapping, inplace=True)\n",
    "    test_df.replace(rename_mapping, inplace=True)\n",
    "    valid_df.replace(rename_mapping, inplace=True)\n",
    "    test_predicted_df.replace(rename_mapping, inplace=True)\n",
    "    \n",
    "    # Save the updated TSV file\n",
    "    train_df.to_csv(train_tsv, sep='\\t', index=False)\n",
    "    test_df.to_csv(test_tsv, sep='\\t', index=False)\n",
    "    valid_df.to_csv(valid_tsv, sep='\\t', index=False)\n",
    "    test_predicted_df.to_csv(test_predicted_tsv, sep='\\t', index=False)\n",
    "    \n",
    "    \n",
    "# Usage\n",
    "image_folder = '/Users//Downloads/images'\n",
    "train_tsv = '/Users//NanoMMIR/data/all_train.tsv'\n",
    "test_tsv = '/Users//NanoMMIR/data/all_test.tsv'\n",
    "valid_tsv = '/Users//NanoMMIR/data/all_valid.tsv'\n",
    "test_predicted_tsv = '/Users//NanoMMIR/data/all_test_predicted.tsv'\n",
    "\n",
    "rename_images_and_update_tsv(image_folder, train_tsv, test_tsv, valid_tsv, test_predicted_tsv)\n"
   ]
  },
  {
   "cell_type": "code",
   "execution_count": null,
   "id": "f161a28d",
   "metadata": {},
   "outputs": [],
   "source": []
  },
  {
   "cell_type": "code",
   "execution_count": null,
   "id": "964ddf3a",
   "metadata": {},
   "outputs": [],
   "source": []
  }
 ],
 "metadata": {
  "kernelspec": {
   "display_name": "Python 3 (ipykernel)",
   "language": "python",
   "name": "python3"
  },
  "language_info": {
   "codemirror_mode": {
    "name": "ipython",
    "version": 3
   },
   "file_extension": ".py",
   "mimetype": "text/x-python",
   "name": "python",
   "nbconvert_exporter": "python",
   "pygments_lexer": "ipython3",
   "version": "3.10.9"
  }
 },
 "nbformat": 4,
 "nbformat_minor": 5
}
