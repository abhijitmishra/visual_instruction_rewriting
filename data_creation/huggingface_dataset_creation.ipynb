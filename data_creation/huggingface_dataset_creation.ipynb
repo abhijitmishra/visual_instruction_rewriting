{
 "cells": [
  {
   "cell_type": "code",
   "execution_count": null,
   "id": "8685c1eb",
   "metadata": {},
   "outputs": [],
   "source": [
    "import pandas as pd\n",
    "from PIL import Image\n",
    "import os\n",
    "\n",
    "def add_images_to_dataframe(input_tsv, output):\n",
    "    image_folder = 'C:/Users//NanoMMIR/data/images'\n",
    "    # Read the input TSV file\n",
    "    df = pd.read_csv(input_tsv, sep='\\t')\n",
    "    \n",
    "    # Function to load image and return binary data\n",
    "    def get_image_binary(image_id):\n",
    "        image_path = os.path.join(image_folder, f\"{image_id}.jpg\")\n",
    "        with open(image_path, 'rb') as f:\n",
    "            image_binary = f.read()\n",
    "        return image_binary\n",
    "\n",
    "    # Add a new column for images\n",
    "    image_binary_list = []\n",
    "    for image_id in df['Image Id']:\n",
    "        image_info = {}\n",
    "        image_binary = get_image_binary(image_id)\n",
    "        image_info[\"bytes\"] = image_binary\n",
    "        image_info[\"path\"] = f\"{image_id}.jpg\"\n",
    "        image_binary_list.append(image_info)\n",
    "\n",
    "    df['Image'] = image_binary_list\n",
    "    df = df[[\"Image\", \"Image Id\", \"Prompt\", \"Rewritten Question\"]]\n",
    "    # Save the updated DataFrame to a .parquet file\n",
    "    df.to_parquet(output)\n",
    "    print(f\"File: {output} updated\")\n"
   ]
  },
  {
   "cell_type": "code",
   "execution_count": null,
   "id": "7231b1ae",
   "metadata": {},
   "outputs": [],
   "source": [
    "# Initialized Input and Output Files\n",
    "train_tsv = \"C:/Users//NanoMMIR/data/all_train.tsv\"\n",
    "train_output = \"C:/Users//Documents/adjusted_data/all_train.parquet\"\n",
    "test_tsv = \"C:/Users//NanoMMIR/data/all_test.tsv\"\n",
    "test_output = \"C:/Users//Documents/adjusted_data/all_test.parquet\"\n",
    "valid_tsv = \"C:/Users//NanoMMIR/data/all_valid.tsv\"\n",
    "valid_output = \"C:/Users//Documents/adjusted_data/all_valid.parquet\"\n",
    "test_predicted_tsv = \"C:/Users//NanoMMIR/data/all_test_predicted.tsv\"\n",
    "test_predicted_output = \"C:/Users//Documents/adjusted_data/all_test_predicted.parquet\""
   ]
  },
  {
   "cell_type": "code",
   "execution_count": null,
   "id": "82626191",
   "metadata": {},
   "outputs": [],
   "source": [
    "# Usage:\n",
    "add_images_to_dataframe(train_tsv, train_output)\n",
    "add_images_to_dataframe(test_tsv, test_output)\n",
    "add_images_to_dataframe(valid_tsv, valid_output)\n",
    "add_images_to_dataframe(test_predicted_tsv, test_predicted_output)"
   ]
  },
  {
   "cell_type": "code",
   "execution_count": null,
   "id": "5b76f000",
   "metadata": {},
   "outputs": [],
   "source": []
  }
 ],
 "metadata": {
  "kernelspec": {
   "display_name": "Python 3 (ipykernel)",
   "language": "python",
   "name": "python3"
  },
  "language_info": {
   "codemirror_mode": {
    "name": "ipython",
    "version": 3
   },
   "file_extension": ".py",
   "mimetype": "text/x-python",
   "name": "python",
   "nbconvert_exporter": "python",
   "pygments_lexer": "ipython3",
   "version": "3.11.7"
  }
 },
 "nbformat": 4,
 "nbformat_minor": 5
}
